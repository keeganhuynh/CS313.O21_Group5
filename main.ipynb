{
 "cells": [
  {
   "cell_type": "code",
   "execution_count": null,
   "metadata": {},
   "outputs": [],
   "source": [
    "markets = [\n",
    "    'ACB.VN',\n",
    "    'BCM.VN',\n",
    "    'BID.VN',\n",
    "    'BVH.VN',\n",
    "    'CTG.VN',\n",
    "    'FPT.VN',\n",
    "    'GAS.VN',\n",
    "    'GVR.VN',\n",
    "    'HDB.VN',\n",
    "    'HPG.VN',\n",
    "    'MBB.VN',\n",
    "    'MSN.VN',\n",
    "    'MWG.VN',\n",
    "    'PLX.VN',\n",
    "    'POW.VN',\n",
    "    'SAB.VN',\n",
    "    'SHB.VN',\n",
    "    'SSB.VN',\n",
    "    'SSI.VN',\n",
    "    'STB.VN',\n",
    "    'TCB.VN',\n",
    "    'TPB.VN',\n",
    "    'VCB.VN',\n",
    "    'VHM.VN',\n",
    "    'VIB.VN',\n",
    "    'VIC.VN',\n",
    "    'VJC.VN',\n",
    "    'VNM.VN',\n",
    "    'VPB.VN',\n",
    "    'VRE.VN',\n",
    "]"
   ]
  },
  {
   "cell_type": "code",
   "execution_count": null,
   "metadata": {},
   "outputs": [],
   "source": [
    "import warnings\n",
    "warnings.filterwarnings(\"ignore\")"
   ]
  },
  {
   "cell_type": "code",
   "execution_count": null,
   "metadata": {},
   "outputs": [],
   "source": [
    "import yfinance as yf\n",
    "\n",
    "data = []\n",
    "for stock in markets:\n",
    "    data.append(yf.download(stock, start=\"2023-01-01\", end=\"2024-04-1\"))"
   ]
  },
  {
   "cell_type": "markdown",
   "metadata": {},
   "source": [
    "**HÀM NÀY DÙNG ĐỂ LẤY BIẾN ĐỘNG GIÁ CẢ TRONG KHOẢNG TỪ START ĐẾN END DATE**\n",
    "\n",
    "Như vậy thời gian giao dịch chứng khoán cơ sở tại Việt Nam là:\n",
    "\n",
    "Ngày giao dịch: Từ thứ Hai đến thứ Sáu, trong giờ hành chính nhà nước. \n",
    "\n",
    "Ngày cuối tuần (thứ Bảy, Chủ Nhật) và ngày lễ tết không tiến hành giao dịch chứng khoán. Các ngày lễ tết không giao dịch chứng khoán ở Việt Nam bao gồm: Tết Dương lịch, Tết Âm lịch, ngày Giỗ tổ Hùng Vương (10/3 Âm lịch), ngày 30/4, ngày 1/5, ngày Quốc khánh 2/9.\n",
    "\n",
    "\n",
    "Không giao dịch trong những trường hợp hi hữu (như có quy định khẩn cấp hoặc thị trường gặp sự cố)."
   ]
  },
  {
   "cell_type": "code",
   "execution_count": null,
   "metadata": {},
   "outputs": [],
   "source": [
    "import numpy as np\n",
    "import pandas as pd\n",
    "def TakeMovement(start_date, end_date):\n",
    "    movement = []\n",
    "    for dt in data:\n",
    "        filtered_data = dt.loc[start_date:end_date]\n",
    "        open_prices = filtered_data['Open']\n",
    "        close_prices = filtered_data['Close']\n",
    "        movement.append(close_prices - open_prices)\n",
    "    return np.array(movement)"
   ]
  },
  {
   "cell_type": "markdown",
   "metadata": {},
   "source": [
    "Anh em để 5 ngày thoi"
   ]
  },
  {
   "cell_type": "code",
   "execution_count": null,
   "metadata": {},
   "outputs": [],
   "source": [
    "movement = TakeMovement(\"2024-03-25\", \"2024-03-29\")"
   ]
  },
  {
   "cell_type": "code",
   "execution_count": null,
   "metadata": {},
   "outputs": [],
   "source": [
    "from sklearn.preprocessing import Normalizer\n",
    "normalizer = Normalizer()\n",
    "\n",
    "new = normalizer.fit_transform(movement)\n",
    "\n",
    "print(new.max())\n",
    "print(new.min())\n",
    "print(new.mean())"
   ]
  },
  {
   "cell_type": "markdown",
   "metadata": {},
   "source": [
    "Calculate Calinski-Harabasz score for k from 2-10"
   ]
  },
  {
   "cell_type": "code",
   "execution_count": null,
   "metadata": {},
   "outputs": [],
   "source": [
    "from sklearn.metrics import calinski_harabasz_score\n",
    "from sklearn.cluster import KMeans\n",
    "from yellowbrick.cluster import KElbowVisualizer\n",
    "x=normalizer.fit_transform(movement)\n",
    "model = KMeans(max_iter=1000)\n",
    "visualizer = KElbowVisualizer(\n",
    "    model, k=(2,11), metric='calinski_harabasz', timings=False,locate_elbow=False\n",
    ")\n",
    "\n",
    "visualizer.fit(x)        # Fit the data to the visualizer\n",
    "visualizer.show()"
   ]
  },
  {
   "cell_type": "code",
   "execution_count": null,
   "metadata": {},
   "outputs": [],
   "source": [
    "from sklearn.pipeline import make_pipeline\n",
    "\n",
    "k=7\n",
    "\n",
    "normalizer = Normalizer()\n",
    "\n",
    "kmeans = KMeans(n_clusters=k, max_iter=1000)\n",
    "\n",
    "pipeline = make_pipeline(normalizer,kmeans)"
   ]
  },
  {
   "cell_type": "code",
   "execution_count": null,
   "metadata": {},
   "outputs": [],
   "source": [
    "pipeline.fit(movement)"
   ]
  },
  {
   "cell_type": "code",
   "execution_count": null,
   "metadata": {},
   "outputs": [],
   "source": [
    "labels = pipeline.predict(movement)\n",
    "\n",
    "df = pd.DataFrame({'labels': labels, 'companies': markets})\n",
    "\n",
    "print(df.sort_values('labels'))"
   ]
  },
  {
   "cell_type": "code",
   "execution_count": null,
   "metadata": {},
   "outputs": [],
   "source": [
    "x=normalizer.fit_transform(movement)\n",
    "calinski_harabasz_score(x,labels)"
   ]
  },
  {
   "cell_type": "code",
   "execution_count": null,
   "metadata": {},
   "outputs": [],
   "source": [
    "import matplotlib.pyplot as plt\n",
    "\n",
    "plt.figure(figsize=(10, 6))\n",
    "num_clusters = len(df['labels'].unique())\n",
    "colors = plt.cm.nipy_spectral(np.linspace(0, 1, num_clusters))\n",
    "\n",
    "for label, color in zip(range(num_clusters), colors):\n",
    "    subset = df[df['labels'] == label]\n",
    "    plt.scatter(subset.index, subset['labels'], color=color, label=f'Group {label}', alpha=0.7)\n",
    "\n",
    "plt.xticks(range(len(df)), df['companies'], rotation=90)\n",
    "plt.xlabel('', rotation=90)\n",
    "plt.ylabel('Labels')\n",
    "plt.title('')\n",
    "plt.legend(loc='upper right')\n",
    "plt.grid(True, linestyle='--', alpha=0.5)  # Thêm grid\n",
    "plt.tight_layout()\n",
    "plt.show()"
   ]
  },
  {
   "cell_type": "code",
   "execution_count": null,
   "metadata": {},
   "outputs": [],
   "source": [
    "print (calinski_harabasz_score(x,labels))"
   ]
  },
  {
   "cell_type": "markdown",
   "metadata": {},
   "source": [
    "## Kmedoids"
   ]
  },
  {
   "cell_type": "code",
   "execution_count": null,
   "metadata": {},
   "outputs": [],
   "source": [
    "from sklearn_extra.cluster import KMedoids"
   ]
  },
  {
   "cell_type": "markdown",
   "metadata": {},
   "source": [
    "### Calculate Calinski-Harabasz for k from 2 to 10"
   ]
  },
  {
   "cell_type": "code",
   "execution_count": null,
   "metadata": {},
   "outputs": [],
   "source": [
    "from yellowbrick.cluster import KElbowVisualizer\n",
    "x=normalizer.fit_transform(movement)\n",
    "model = KMedoids(max_iter=1000,init=\"random\")\n",
    "visualizer = KElbowVisualizer(\n",
    "    model, k=(2,11), metric='calinski_harabasz', timings=False\n",
    ")\n",
    "\n",
    "visualizer.fit(x)        # Fit the data to the visualizer\n",
    "visualizer.show()"
   ]
  },
  {
   "cell_type": "markdown",
   "metadata": {},
   "source": [
    "### Kmedoids"
   ]
  },
  {
   "cell_type": "code",
   "execution_count": null,
   "metadata": {},
   "outputs": [],
   "source": [
    "k=3\n",
    "kmedoids = KMedoids(n_clusters=k, max_iter=1000)\n",
    "\n",
    "pipeline_1 = make_pipeline(normalizer,kmedoids)"
   ]
  },
  {
   "cell_type": "code",
   "execution_count": null,
   "metadata": {},
   "outputs": [],
   "source": [
    "pipeline_1.fit(movement)"
   ]
  },
  {
   "cell_type": "code",
   "execution_count": null,
   "metadata": {},
   "outputs": [],
   "source": [
    "labels_1 = pipeline_1.predict(movement)\n",
    "\n",
    "df = pd.DataFrame({'labels': labels_1, 'companies': markets})\n",
    "\n",
    "print(df.sort_values('labels'))"
   ]
  },
  {
   "cell_type": "code",
   "execution_count": null,
   "metadata": {},
   "outputs": [],
   "source": [
    "plt.figure(figsize=(10, 6))\n",
    "num_clusters = len(df['labels'].unique())\n",
    "colors = plt.cm.nipy_spectral(np.linspace(0, 1, num_clusters))\n",
    "\n",
    "for label, color in zip(range(num_clusters), colors):\n",
    "    subset = df[df['labels'] == label]\n",
    "    plt.scatter(subset.index, subset['labels'], color=color, label=f'Group {label}', alpha=0.7)\n",
    "\n",
    "plt.xticks(range(len(df)), df['companies'], rotation=90)\n",
    "plt.xlabel('', rotation=90)\n",
    "plt.ylabel('Labels')\n",
    "plt.title('')\n",
    "plt.legend(loc='upper right')\n",
    "plt.grid(True, linestyle='--', alpha=0.5)  # Thêm grid\n",
    "plt.tight_layout()\n",
    "plt.show()"
   ]
  }
 ],
 "metadata": {
  "kernelspec": {
   "display_name": "Python 3",
   "language": "python",
   "name": "python3"
  },
  "language_info": {
   "codemirror_mode": {
    "name": "ipython",
    "version": 3
   },
   "file_extension": ".py",
   "mimetype": "text/x-python",
   "name": "python",
   "nbconvert_exporter": "python",
   "pygments_lexer": "ipython3",
   "version": "3.11.3"
  }
 },
 "nbformat": 4,
 "nbformat_minor": 2
}
