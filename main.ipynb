{
 "cells": [
  {
   "cell_type": "code",
   "execution_count": 12,
   "metadata": {},
   "outputs": [],
   "source": [
    "markets = [\n",
    "    'ACB.VN',\n",
    "    'BCM.VN',\n",
    "    'BID.VN',\n",
    "    'BVH.VN',\n",
    "    'CTG.VN',\n",
    "    'FPT.VN',\n",
    "    'GAS.VN',\n",
    "    'GVR.VN',\n",
    "    'HDB.VN',\n",
    "    'HPG.VN',\n",
    "    'MBB.VN',\n",
    "    'MSN.VN',\n",
    "    'MWG.VN',\n",
    "    'PLX.VN',\n",
    "    'POW.VN',\n",
    "    'SAB.VN',\n",
    "    'SHB.VN',\n",
    "    'SSB.VN',\n",
    "    'SSI.VN',\n",
    "    'STB.VN',\n",
    "    'TCB.VN',\n",
    "    'TPB.VN',\n",
    "    'VCB.VN',\n",
    "    'VHM.VN',\n",
    "    'VIB.VN',\n",
    "    'VIC.VN',\n",
    "    'VJC.VN',\n",
    "    'VNM.VN',\n",
    "    'VPB.VN',\n",
    "    'VRE.VN',\n",
    "]"
   ]
  },
  {
   "cell_type": "code",
   "execution_count": 17,
   "metadata": {},
   "outputs": [
    {
     "name": "stderr",
     "output_type": "stream",
     "text": [
      "[*********************100%%**********************]  1 of 1 completed"
     ]
    },
    {
     "name": "stderr",
     "output_type": "stream",
     "text": [
      "\n",
      "[*********************100%%**********************]  1 of 1 completed\n",
      "[*********************100%%**********************]  1 of 1 completed\n",
      "[*********************100%%**********************]  1 of 1 completed\n",
      "[*********************100%%**********************]  1 of 1 completed\n",
      "[*********************100%%**********************]  1 of 1 completed\n",
      "[*********************100%%**********************]  1 of 1 completed\n",
      "[*********************100%%**********************]  1 of 1 completed\n",
      "[*********************100%%**********************]  1 of 1 completed\n",
      "[*********************100%%**********************]  1 of 1 completed\n",
      "[*********************100%%**********************]  1 of 1 completed\n",
      "[*********************100%%**********************]  1 of 1 completed\n",
      "[*********************100%%**********************]  1 of 1 completed\n",
      "[*********************100%%**********************]  1 of 1 completed\n",
      "[*********************100%%**********************]  1 of 1 completed\n",
      "[*********************100%%**********************]  1 of 1 completed\n",
      "[*********************100%%**********************]  1 of 1 completed\n",
      "[*********************100%%**********************]  1 of 1 completed\n",
      "[*********************100%%**********************]  1 of 1 completed\n",
      "[*********************100%%**********************]  1 of 1 completed\n",
      "[*********************100%%**********************]  1 of 1 completed\n",
      "[*********************100%%**********************]  1 of 1 completed\n",
      "[*********************100%%**********************]  1 of 1 completed\n",
      "[*********************100%%**********************]  1 of 1 completed\n",
      "[*********************100%%**********************]  1 of 1 completed\n",
      "[*********************100%%**********************]  1 of 1 completed\n",
      "[*********************100%%**********************]  1 of 1 completed\n",
      "[*********************100%%**********************]  1 of 1 completed\n",
      "[*********************100%%**********************]  1 of 1 completed\n",
      "[*********************100%%**********************]  1 of 1 completed\n"
     ]
    }
   ],
   "source": [
    "import yfinance as yf\n",
    "\n",
    "data = []\n",
    "for stock in markets:\n",
    "    data.append(yf.download(\"FPT.VN\", start=\"2023-01-01\", end=\"2024-04-1\"))"
   ]
  },
  {
   "cell_type": "code",
   "execution_count": 36,
   "metadata": {},
   "outputs": [
    {
     "name": "stdout",
     "output_type": "stream",
     "text": [
      "116400.0\n",
      "116500.0\n"
     ]
    }
   ],
   "source": [
    "def TakeMovement(dayrange):\n",
    "    movement = []\n",
    "    for dt in data:\n",
    "        open = dt['Open'].iloc[-1]\n",
    "        close = dt['Close'].iloc[-1]\n",
    "        movement.append(close - open)\n",
    "    return movement"
   ]
  },
  {
   "cell_type": "code",
   "execution_count": null,
   "metadata": {},
   "outputs": [],
   "source": []
  }
 ],
 "metadata": {
  "kernelspec": {
   "display_name": "Python 3",
   "language": "python",
   "name": "python3"
  },
  "language_info": {
   "codemirror_mode": {
    "name": "ipython",
    "version": 3
   },
   "file_extension": ".py",
   "mimetype": "text/x-python",
   "name": "python",
   "nbconvert_exporter": "python",
   "pygments_lexer": "ipython3",
   "version": "3.11.8"
  }
 },
 "nbformat": 4,
 "nbformat_minor": 2
}
